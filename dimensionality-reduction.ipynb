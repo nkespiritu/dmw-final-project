{
 "cells": [
  {
   "cell_type": "markdown",
   "metadata": {},
   "source": [
    "# Dimensionality Reduction\n",
    "\n",
    "This notebook focuses on applying dimensionality reduction using TruncatedSVD."
   ]
  },
  {
   "cell_type": "code",
   "execution_count": 1,
   "metadata": {
    "ExecuteTime": {
     "end_time": "2020-08-22T11:32:28.858920Z",
     "start_time": "2020-08-22T11:32:26.023830Z"
    }
   },
   "outputs": [],
   "source": [
    "import numpy as np\n",
    "import pandas as pd\n",
    "import matplotlib.pyplot as plt\n",
    "import seaborn as sns\n",
    "from sklearn.decomposition import PCA, TruncatedSVD\n",
    "from sklearn.preprocessing import StandardScaler"
   ]
  },
  {
   "cell_type": "code",
   "execution_count": 2,
   "metadata": {
    "ExecuteTime": {
     "end_time": "2020-08-22T11:32:33.792921Z",
     "start_time": "2020-08-22T11:32:28.862340Z"
    }
   },
   "outputs": [],
   "source": [
    "fn = ('/mnt/processed/private/msds2021/lt6/chicago-dataset/sample/'\n",
    "      'taxi_tnp_weather.csv.gz')\n",
    "df = pd.read_csv(fn, low_memory=False,\n",
    "                 parse_dates=['trip_end_timestamp', 'trip_start_timestamp'])"
   ]
  },
  {
   "cell_type": "markdown",
   "metadata": {},
   "source": [
    "<table>\n",
    "<tr><th colspan=2 style=\"text-align: center\"> Clustering Features</th></tr>\n",
    "<tr>\n",
    "    <td>dropoff_centroid_latitude</td>\n",
    "    <td>dropoff_centroid_longitude</td>\n",
    "</tr>\n",
    "<tr>\n",
    "    <td>pickup_centroid_latitude</td>\n",
    "    <td>pickup_centroid_longitude</td>\n",
    "</tr>\n",
    "<tr>\n",
    "    <td>fare</td>\n",
    "    <td>tip</td>\n",
    "</tr>\n",
    "<tr>\n",
    "    <td>trip_miles</td>\n",
    "    <td>trip_seconds</td>\n",
    "</tr>\n",
    "<tr>\n",
    "    <td>trip_total</td>\n",
    "    <td>additional_charges</td>\n",
    "</tr>\n",
    "</table>"
   ]
  },
  {
   "cell_type": "code",
   "execution_count": 3,
   "metadata": {
    "ExecuteTime": {
     "end_time": "2020-08-22T11:32:33.974605Z",
     "start_time": "2020-08-22T11:32:33.796582Z"
    }
   },
   "outputs": [
    {
     "data": {
      "text/html": [
       "<div>\n",
       "<style scoped>\n",
       "    .dataframe tbody tr th:only-of-type {\n",
       "        vertical-align: middle;\n",
       "    }\n",
       "\n",
       "    .dataframe tbody tr th {\n",
       "        vertical-align: top;\n",
       "    }\n",
       "\n",
       "    .dataframe thead th {\n",
       "        text-align: right;\n",
       "    }\n",
       "</style>\n",
       "<table border=\"1\" class=\"dataframe\">\n",
       "  <thead>\n",
       "    <tr style=\"text-align: right;\">\n",
       "      <th></th>\n",
       "      <th>dropoff_centroid_latitude</th>\n",
       "      <th>dropoff_centroid_longitude</th>\n",
       "      <th>fare</th>\n",
       "      <th>pickup_centroid_latitude</th>\n",
       "      <th>pickup_centroid_longitude</th>\n",
       "      <th>tip</th>\n",
       "      <th>trip_miles</th>\n",
       "      <th>trip_seconds</th>\n",
       "      <th>trip_total</th>\n",
       "      <th>additional_charges</th>\n",
       "      <th>payment_type_cash</th>\n",
       "      <th>payment_type_credit_card</th>\n",
       "      <th>payment_type_mobile</th>\n",
       "      <th>payment_type_prepaid_card</th>\n",
       "      <th>payment_type_unknown</th>\n",
       "    </tr>\n",
       "  </thead>\n",
       "  <tbody>\n",
       "    <tr>\n",
       "      <th>0</th>\n",
       "      <td>41.901207</td>\n",
       "      <td>-87.676356</td>\n",
       "      <td>12.25</td>\n",
       "      <td>41.899602</td>\n",
       "      <td>-87.633308</td>\n",
       "      <td>0.0</td>\n",
       "      <td>3.43</td>\n",
       "      <td>705.0</td>\n",
       "      <td>13.25</td>\n",
       "      <td>1.0</td>\n",
       "      <td>1</td>\n",
       "      <td>0</td>\n",
       "      <td>0</td>\n",
       "      <td>0</td>\n",
       "      <td>0</td>\n",
       "    </tr>\n",
       "    <tr>\n",
       "      <th>1</th>\n",
       "      <td>41.879067</td>\n",
       "      <td>-87.657005</td>\n",
       "      <td>9.00</td>\n",
       "      <td>41.892042</td>\n",
       "      <td>-87.631864</td>\n",
       "      <td>2.0</td>\n",
       "      <td>1.67</td>\n",
       "      <td>772.0</td>\n",
       "      <td>13.50</td>\n",
       "      <td>2.0</td>\n",
       "      <td>0</td>\n",
       "      <td>1</td>\n",
       "      <td>0</td>\n",
       "      <td>0</td>\n",
       "      <td>0</td>\n",
       "    </tr>\n",
       "    <tr>\n",
       "      <th>2</th>\n",
       "      <td>41.900070</td>\n",
       "      <td>-87.720918</td>\n",
       "      <td>9.50</td>\n",
       "      <td>41.922761</td>\n",
       "      <td>-87.699155</td>\n",
       "      <td>0.0</td>\n",
       "      <td>2.56</td>\n",
       "      <td>831.0</td>\n",
       "      <td>9.50</td>\n",
       "      <td>0.0</td>\n",
       "      <td>1</td>\n",
       "      <td>0</td>\n",
       "      <td>0</td>\n",
       "      <td>0</td>\n",
       "      <td>0</td>\n",
       "    </tr>\n",
       "    <tr>\n",
       "      <th>3</th>\n",
       "      <td>41.877406</td>\n",
       "      <td>-87.621972</td>\n",
       "      <td>15.75</td>\n",
       "      <td>41.921778</td>\n",
       "      <td>-87.651062</td>\n",
       "      <td>0.0</td>\n",
       "      <td>5.04</td>\n",
       "      <td>996.0</td>\n",
       "      <td>15.75</td>\n",
       "      <td>0.0</td>\n",
       "      <td>1</td>\n",
       "      <td>0</td>\n",
       "      <td>0</td>\n",
       "      <td>0</td>\n",
       "      <td>0</td>\n",
       "    </tr>\n",
       "    <tr>\n",
       "      <th>4</th>\n",
       "      <td>41.880994</td>\n",
       "      <td>-87.632746</td>\n",
       "      <td>16.75</td>\n",
       "      <td>41.922083</td>\n",
       "      <td>-87.634156</td>\n",
       "      <td>0.0</td>\n",
       "      <td>4.90</td>\n",
       "      <td>1219.0</td>\n",
       "      <td>17.75</td>\n",
       "      <td>1.0</td>\n",
       "      <td>1</td>\n",
       "      <td>0</td>\n",
       "      <td>0</td>\n",
       "      <td>0</td>\n",
       "      <td>0</td>\n",
       "    </tr>\n",
       "  </tbody>\n",
       "</table>\n",
       "</div>"
      ],
      "text/plain": [
       "   dropoff_centroid_latitude  dropoff_centroid_longitude   fare  \\\n",
       "0                  41.901207                  -87.676356  12.25   \n",
       "1                  41.879067                  -87.657005   9.00   \n",
       "2                  41.900070                  -87.720918   9.50   \n",
       "3                  41.877406                  -87.621972  15.75   \n",
       "4                  41.880994                  -87.632746  16.75   \n",
       "\n",
       "   pickup_centroid_latitude  pickup_centroid_longitude  tip  trip_miles  \\\n",
       "0                 41.899602                 -87.633308  0.0        3.43   \n",
       "1                 41.892042                 -87.631864  2.0        1.67   \n",
       "2                 41.922761                 -87.699155  0.0        2.56   \n",
       "3                 41.921778                 -87.651062  0.0        5.04   \n",
       "4                 41.922083                 -87.634156  0.0        4.90   \n",
       "\n",
       "   trip_seconds  trip_total  additional_charges  payment_type_cash  \\\n",
       "0         705.0       13.25                 1.0                  1   \n",
       "1         772.0       13.50                 2.0                  0   \n",
       "2         831.0        9.50                 0.0                  1   \n",
       "3         996.0       15.75                 0.0                  1   \n",
       "4        1219.0       17.75                 1.0                  1   \n",
       "\n",
       "   payment_type_credit_card  payment_type_mobile  payment_type_prepaid_card  \\\n",
       "0                         0                    0                          0   \n",
       "1                         1                    0                          0   \n",
       "2                         0                    0                          0   \n",
       "3                         0                    0                          0   \n",
       "4                         0                    0                          0   \n",
       "\n",
       "   payment_type_unknown  \n",
       "0                     0  \n",
       "1                     0  \n",
       "2                     0  \n",
       "3                     0  \n",
       "4                     0  "
      ]
     },
     "execution_count": 3,
     "metadata": {},
     "output_type": "execute_result"
    }
   ],
   "source": [
    "non_cluster_feature = ['trip_id', 'company',\n",
    "                       'dropoff_community_area', 'pickup_community_area',\n",
    "                       'trip_end_timestamp', 'trip_start_timestamp',\n",
    "                       'Type', 'Severity', 'TransportType',\n",
    "                       'payment_is_cashless']\n",
    "dfc = pd.get_dummies(df.drop(columns=non_cluster_feature))\n",
    "dfc.head()"
   ]
  },
  {
   "cell_type": "code",
   "execution_count": 4,
   "metadata": {
    "ExecuteTime": {
     "end_time": "2020-08-22T11:32:34.426437Z",
     "start_time": "2020-08-22T11:32:33.979541Z"
    }
   },
   "outputs": [],
   "source": [
    "stdscale = StandardScaler()\n",
    "dfc = stdscale.fit_transform(dfc)"
   ]
  },
  {
   "cell_type": "code",
   "execution_count": 8,
   "metadata": {
    "ExecuteTime": {
     "end_time": "2020-08-22T11:33:20.442569Z",
     "start_time": "2020-08-22T11:33:18.284511Z"
    }
   },
   "outputs": [
    {
     "name": "stdout",
     "output_type": "stream",
     "text": [
      "Number of PCs for above 90% Explained Variance: 9\n",
      "Number of PCs for above 95% Explained Variance: 10\n"
     ]
    },
    {
     "data": {
      "image/png": "[encoded data removed]",
      "text/plain": [
       "<Figure size 432x288 with 1 Axes>"
      ]
     },
     "metadata": {
      "needs_background": "light"
     },
     "output_type": "display_data"
    }
   ],
   "source": [
    "pca = PCA()\n",
    "pca.fit(dfc)\n",
    "exp_var = pca.explained_variance_ratio_\n",
    "plt.plot(range(1, len(exp_var)+1), exp_var.cumsum(), 'o-')\n",
    "plt.gca().axhline(0.9, c='r', ls='--')\n",
    "plt.gca().axhline(0.95, c='g', ls='--')\n",
    "plt.ylim([0, 1])\n",
    "print('Number of PCs for above 90% Explained Variance:',\n",
    "      np.size(exp_var) - np.sum(exp_var.cumsum() > 0.90) + 1)\n",
    "print('Number of PCs for above 95% Explained Variance:',\n",
    "      np.size(exp_var) - np.sum(exp_var.cumsum() > 0.95) + 1)"
   ]
  },
  {
   "cell_type": "code",
   "execution_count": 6,
   "metadata": {
    "ExecuteTime": {
     "end_time": "2020-08-22T11:32:37.821955Z",
     "start_time": "2020-08-22T11:32:37.816047Z"
    }
   },
   "outputs": [],
   "source": [
    "np.save('exp_var.npy', exp_var)"
   ]
  },
  {
   "cell_type": "markdown",
   "metadata": {},
   "source": [
    "Setting the threshold of explained variance to 95%, we'll select **11 PCs** to retain prior to clustering. We'll save it to an `.npy` file for the clustering stage."
   ]
  },
  {
   "cell_type": "code",
   "execution_count": 7,
   "metadata": {
    "ExecuteTime": {
     "end_time": "2020-08-22T11:32:51.307580Z",
     "start_time": "2020-08-22T11:32:37.824508Z"
    }
   },
   "outputs": [],
   "source": [
    "pca.set_params(n_components = 11)\n",
    "dfc = pca.fit_transform(dfc)\n",
    "np.save('pca.npy', dfc)"
   ]
  }
 ],
 "metadata": {
  "kernelspec": {
   "display_name": "Python 3",
   "language": "python",
   "name": "python3"
  },
  "language_info": {
   "codemirror_mode": {
    "name": "ipython",
    "version": 3
   },
   "file_extension": ".py",
   "mimetype": "text/x-python",
   "name": "python",
   "nbconvert_exporter": "python",
   "pygments_lexer": "ipython3",
   "version": "3.7.6"
  },
  "varInspector": {
   "cols": {
    "lenName": 16,
    "lenType": 16,
    "lenVar": 40
   },
   "kernels_config": {
    "python": {
     "delete_cmd_postfix": "",
     "delete_cmd_prefix": "del ",
     "library": "var_list.py",
     "varRefreshCmd": "print(var_dic_list())"
    },
    "r": {
     "delete_cmd_postfix": ") ",
     "delete_cmd_prefix": "rm(",
     "library": "var_list.r",
     "varRefreshCmd": "cat(var_dic_list()) "
    }
   },
   "types_to_exclude": [
    "module",
    "function",
    "builtin_function_or_method",
    "instance",
    "_Feature"
   ],
   "window_display": false
  }
 },
 "nbformat": 4,
 "nbformat_minor": 4
}
