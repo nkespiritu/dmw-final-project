{
 "cells": [
  {
   "cell_type": "markdown",
   "metadata": {},
   "source": [
    "# Sampling from Databases\n",
    "\n",
    "This notebook will create samples from the two databases built from scraping."
   ]
  },
  {
   "cell_type": "code",
   "execution_count": 1,
   "metadata": {
    "ExecuteTime": {
     "end_time": "2020-08-01T22:20:40.116307Z",
     "start_time": "2020-08-01T22:20:38.361444Z"
    }
   },
   "outputs": [],
   "source": [
    "import sqlite3\n",
    "import numpy as np\n",
    "import pandas as pd\n",
    "import matplotlib.pyplot as plt"
   ]
  },
  {
   "cell_type": "markdown",
   "metadata": {},
   "source": [
    "**Note: This same dataset was used for another project that incorporated weather data, but this was not used in DMW.**"
   ]
  },
  {
   "cell_type": "code",
   "execution_count": 4,
   "metadata": {
    "ExecuteTime": {
     "end_time": "2020-08-01T22:20:50.217575Z",
     "start_time": "2020-08-01T22:20:50.182302Z"
    }
   },
   "outputs": [
    {
     "data": {
      "text/html": [
       "<div>\n",
       "<style scoped>\n",
       "    .dataframe tbody tr th:only-of-type {\n",
       "        vertical-align: middle;\n",
       "    }\n",
       "\n",
       "    .dataframe tbody tr th {\n",
       "        vertical-align: top;\n",
       "    }\n",
       "\n",
       "    .dataframe thead th {\n",
       "        text-align: right;\n",
       "    }\n",
       "</style>\n",
       "<table border=\"1\" class=\"dataframe\">\n",
       "  <thead>\n",
       "    <tr style=\"text-align: right;\">\n",
       "      <th></th>\n",
       "      <th>StartTime(UTC)</th>\n",
       "      <th>EndTime(UTC)</th>\n",
       "      <th>Type</th>\n",
       "      <th>Severity</th>\n",
       "    </tr>\n",
       "  </thead>\n",
       "  <tbody>\n",
       "    <tr>\n",
       "      <th>0</th>\n",
       "      <td>2016-01-01 11:00:00</td>\n",
       "      <td>2016-01-01 13:00:00</td>\n",
       "      <td>Snow</td>\n",
       "      <td>Light</td>\n",
       "    </tr>\n",
       "    <tr>\n",
       "      <th>1</th>\n",
       "      <td>2016-01-03 23:00:00</td>\n",
       "      <td>2016-01-04 06:00:00</td>\n",
       "      <td>Snow</td>\n",
       "      <td>Light</td>\n",
       "    </tr>\n",
       "    <tr>\n",
       "      <th>2</th>\n",
       "      <td>2016-01-04 15:30:00</td>\n",
       "      <td>2016-01-04 17:00:00</td>\n",
       "      <td>Snow</td>\n",
       "      <td>Light</td>\n",
       "    </tr>\n",
       "    <tr>\n",
       "      <th>3</th>\n",
       "      <td>2016-01-04 18:00:00</td>\n",
       "      <td>2016-01-05 02:00:00</td>\n",
       "      <td>Snow</td>\n",
       "      <td>Light</td>\n",
       "    </tr>\n",
       "    <tr>\n",
       "      <th>4</th>\n",
       "      <td>2016-01-08 08:00:00</td>\n",
       "      <td>2016-01-08 14:15:00</td>\n",
       "      <td>Rain</td>\n",
       "      <td>Light</td>\n",
       "    </tr>\n",
       "  </tbody>\n",
       "</table>\n",
       "</div>"
      ],
      "text/plain": [
       "       StartTime(UTC)        EndTime(UTC)  Type Severity\n",
       "0 2016-01-01 11:00:00 2016-01-01 13:00:00  Snow    Light\n",
       "1 2016-01-03 23:00:00 2016-01-04 06:00:00  Snow    Light\n",
       "2 2016-01-04 15:30:00 2016-01-04 17:00:00  Snow    Light\n",
       "3 2016-01-04 18:00:00 2016-01-05 02:00:00  Snow    Light\n",
       "4 2016-01-08 08:00:00 2016-01-08 14:15:00  Rain    Light"
      ]
     },
     "execution_count": 4,
     "metadata": {},
     "output_type": "execute_result"
    }
   ],
   "source": [
    "w_df = pd.read_csv('chicago-weather.csv', parse_dates=['StartTime(UTC)',\n",
    "                                                       'EndTime(UTC)'])\n",
    "w_df.head()"
   ]
  },
  {
   "cell_type": "markdown",
   "metadata": {},
   "source": [
    "## TNP Dataset\n",
    "\n",
    "Since the TNP Dataset was scraped monthly into individual databases, we'll iterate over each database and randomly sample 2% from each month."
   ]
  },
  {
   "cell_type": "code",
   "execution_count": 1,
   "metadata": {
    "ExecuteTime": {
     "end_time": "2020-08-21T16:56:08.842233Z",
     "start_time": "2020-08-21T16:56:08.834983Z"
    }
   },
   "outputs": [],
   "source": [
    "tnp_dir = '/mnt/processed/private/msds2021/lt6/chicago-dataset/tnp/'\n",
    "datasets = ['tnp_201901.db',\n",
    "            'tnp_201902.db',\n",
    "            'tnp_201903.db',\n",
    "            'tnp_201904.db',\n",
    "            'tnp_201905.db',\n",
    "            'tnp_201906.db',\n",
    "            'tnp_201907.db',\n",
    "            'tnp_201908.db',\n",
    "            'tnp_201909.db',\n",
    "            'tnp_201910.db',\n",
    "            'tnp_201911.db',\n",
    "            'tnp_201912.db']"
   ]
  },
  {
   "cell_type": "code",
   "execution_count": 3,
   "metadata": {
    "ExecuteTime": {
     "end_time": "2020-08-01T22:20:44.546179Z",
     "start_time": "2020-08-01T22:20:44.541116Z"
    }
   },
   "outputs": [],
   "source": [
    "cols = ['trip_id', 'trip_start_timestamp', 'trip_end_timestamp', 'trip_seconds',\n",
    "       'trip_miles', 'pickup_community_area', 'dropoff_community_area', 'fare', 'tip',\n",
    "       'additional_charges', 'trip_total', 'shared_trip_authorized',\n",
    "       'trips_pooled', 'pickup_centroid_latitude', 'pickup_centroid_longitude',\n",
    "       'dropoff_centroid_latitude', 'dropoff_centroid_longitude']"
   ]
  },
  {
   "cell_type": "code",
   "execution_count": 6,
   "metadata": {
    "ExecuteTime": {
     "end_time": "2020-08-01T23:41:28.743496Z",
     "start_time": "2020-08-01T22:21:44.624077Z"
    }
   },
   "outputs": [
    {
     "name": "stdout",
     "output_type": "stream",
     "text": [
      "START: tnp_201901.db\n",
      "COMPLETE: tnp_201901.db\n",
      "START: tnp_201902.db\n",
      "COMPLETE: tnp_201902.db\n",
      "START: tnp_201903.db\n",
      "COMPLETE: tnp_201903.db\n",
      "START: tnp_201904.db\n",
      "COMPLETE: tnp_201904.db\n",
      "START: tnp_201905.db\n",
      "COMPLETE: tnp_201905.db\n",
      "START: tnp_201906.db\n",
      "COMPLETE: tnp_201906.db\n",
      "START: tnp_201907.db\n",
      "COMPLETE: tnp_201907.db\n",
      "START: tnp_201908.db\n",
      "COMPLETE: tnp_201908.db\n",
      "START: tnp_201909.db\n",
      "COMPLETE: tnp_201909.db\n",
      "START: tnp_201910.db\n",
      "COMPLETE: tnp_201910.db\n",
      "START: tnp_201911.db\n",
      "COMPLETE: tnp_201911.db\n",
      "START: tnp_201912.db\n",
      "COMPLETE: tnp_201912.db\n"
     ]
    }
   ],
   "source": [
    "for d in datasets:\n",
    "    with sqlite3.connect(tnp_dir + d) as conn:\n",
    "        print('START:', d)\n",
    "        sql = f\"\"\"SELECT * FROM trips WHERE trip_id IN\n",
    "                    (SELECT trip_id FROM trips ORDER BY RANDOM()\n",
    "                     LIMIT (SELECT ROUND(COUNT(*) * 0.02) FROM trips))\"\"\"\n",
    "        df = pd.read_sql(sql, conn,\n",
    "                         parse_dates=['trip_start_timestamp',\n",
    "                                      'trip_end_timestamp']).loc[:, cols]\n",
    "\n",
    "        # Build the Weather Mapper\n",
    "        wmap = pd.DataFrame({'ts':\n",
    "                             df.trip_start_timestamp.unique()})\n",
    "        wmap['T/S'] = wmap.ts.apply(lambda x:\n",
    "                                    w_df.loc[((w_df['StartTime(UTC)'] <= x) &\n",
    "                                              (w_df['EndTime(UTC)'] >= x)),\n",
    "                                             ['Type', 'Severity']].iloc[0, :]\n",
    "                                        .to_numpy()\n",
    "                                    if not w_df.loc[((w_df['StartTime(UTC)']\n",
    "                                                      <= x) &\n",
    "                                                     (w_df['EndTime(UTC)']\n",
    "                                                      >= x)),\n",
    "                                                    ['Type', 'Severity']]\n",
    "                                               .empty\n",
    "                                    else [None, None])\n",
    "        wmap['Type'] = wmap['T/S'].apply(lambda x: x[0])\n",
    "        wmap['Severity'] = wmap['T/S'].apply(lambda x: x[1])\n",
    "        wmap.drop(columns=['T/S'], inplace=True)\n",
    "        wmap.set_index('ts', inplace=True)\n",
    "\n",
    "        # Merge Weather and TNP data\n",
    "        df = pd.merge(df, wmap,\n",
    "                      left_on='trip_start_timestamp',\n",
    "                      right_index=True)\n",
    "\n",
    "        # Write to CSV\n",
    "        df.to_csv('tnp_sample.csv.gz', mode='a')\n",
    "        print('COMPLETE:', d)"
   ]
  },
  {
   "cell_type": "markdown",
   "metadata": {},
   "source": [
    "## Taxi Dataset\n",
    "\n",
    "For the taxi dataset, we'll also randomly sample 2% from the whole database."
   ]
  },
  {
   "cell_type": "code",
   "execution_count": 9,
   "metadata": {
    "ExecuteTime": {
     "end_time": "2020-08-02T00:00:14.676135Z",
     "start_time": "2020-08-01T23:56:48.390509Z"
    }
   },
   "outputs": [
    {
     "name": "stdout",
     "output_type": "stream",
     "text": [
      "START: taxi.db\n",
      "COMPLETE: taxi.db\n"
     ]
    }
   ],
   "source": [
    "taxi_db = '/mnt/processed/private/msds2021/lt6/chicago-dataset/taxi/taxi.db'\n",
    "with sqlite3.connect(taxi_db) as conn:\n",
    "    print('START: taxi.db')\n",
    "    sql = f\"\"\"SELECT * FROM taxi WHERE trip_id IN\n",
    "                (SELECT trip_id FROM taxi ORDER BY RANDOM()\n",
    "                 LIMIT (SELECT ROUND(COUNT(*) * 0.02) FROM taxi))\"\"\"\n",
    "    df = pd.read_sql(sql, conn,\n",
    "                     parse_dates=[x'trip_start_timestamp',\n",
    "                                  'trip_end_timestamp'])\n",
    "\n",
    "    # Build the Weather Mapper\n",
    "    wmap = pd.DataFrame({'ts':\n",
    "                         df.trip_start_timestamp.unique()})\n",
    "    wmap['T/S'] = wmap.ts.apply(lambda x:\n",
    "                                w_df.loc[((w_df['StartTime(UTC)'] <= x) &\n",
    "                                          (w_df['EndTime(UTC)'] >= x)),\n",
    "                                         ['Type', 'Severity']].iloc[0, :]\n",
    "                                    .to_numpy()\n",
    "                                if not w_df.loc[((w_df['StartTime(UTC)']\n",
    "                                                  <= x) &\n",
    "                                                 (w_df['EndTime(UTC)']\n",
    "                                                  >= x)),\n",
    "                                                ['Type', 'Severity']]\n",
    "                                           .empty\n",
    "                                else [None, None])\n",
    "    wmap['Type'] = wmap['T/S'].apply(lambda x: x[0])\n",
    "    wmap['Severity'] = wmap['T/S'].apply(lambda x: x[1])\n",
    "    wmap.drop(columns=['T/S'], inplace=True)\n",
    "    wmap.set_index('ts', inplace=True)\n",
    "\n",
    "    # Merge Weather and TNP data\n",
    "    df = pd.merge(df, wmap,\n",
    "                  left_on='trip_start_timestamp',\n",
    "                  right_index=True)\n",
    "\n",
    "    # Write to CSV\n",
    "    df.to_csv('taxi_sample.csv.gz', mode='a')\n",
    "    print('COMPLETE: taxi.db')"
   ]
  },
  {
   "cell_type": "code",
   "execution_count": null,
   "metadata": {},
   "outputs": [],
   "source": []
  }
 ],
 "metadata": {
  "kernelspec": {
   "display_name": "Python 3",
   "language": "python",
   "name": "python3"
  },
  "language_info": {
   "codemirror_mode": {
    "name": "ipython",
    "version": 3
   },
   "file_extension": ".py",
   "mimetype": "text/x-python",
   "name": "python",
   "nbconvert_exporter": "python",
   "pygments_lexer": "ipython3",
   "version": "3.7.6"
  },
  "varInspector": {
   "cols": {
    "lenName": 16,
    "lenType": 16,
    "lenVar": 40
   },
   "kernels_config": {
    "python": {
     "delete_cmd_postfix": "",
     "delete_cmd_prefix": "del ",
     "library": "var_list.py",
     "varRefreshCmd": "print(var_dic_list())"
    },
    "r": {
     "delete_cmd_postfix": ") ",
     "delete_cmd_prefix": "rm(",
     "library": "var_list.r",
     "varRefreshCmd": "cat(var_dic_list()) "
    }
   },
   "types_to_exclude": [
    "module",
    "function",
    "builtin_function_or_method",
    "instance",
    "_Feature"
   ],
   "window_display": false
  }
 },
 "nbformat": 4,
 "nbformat_minor": 4
}
