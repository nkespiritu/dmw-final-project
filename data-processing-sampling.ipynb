{
 "cells": [
  {
   "cell_type": "markdown",
   "metadata": {},
   "source": [
    "# Data Processing and Evenly Sampling\n",
    "\n",
    "To be able to answer the goal of this project, we want to create even samples of Taxi and TNP data to not skew the preferences and features of the trips. We'll use the Taxi dataset as the base since we have a smaller sample size from this dataset."
   ]
  },
  {
   "cell_type": "code",
   "execution_count": 2,
   "metadata": {
    "ExecuteTime": {
     "end_time": "2020-08-21T17:12:22.010717Z",
     "start_time": "2020-08-21T17:12:19.976843Z"
    }
   },
   "outputs": [],
   "source": [
    "import pandas as pd\n",
    "import numpy as np\n",
    "import matplotlib.pyplot\n",
    "import seaborn as sns"
   ]
  },
  {
   "cell_type": "markdown",
   "metadata": {},
   "source": [
    "# Taxi Dataset"
   ]
  },
  {
   "cell_type": "code",
   "execution_count": 3,
   "metadata": {
    "ExecuteTime": {
     "end_time": "2020-08-21T17:12:25.901182Z",
     "start_time": "2020-08-21T17:12:22.962468Z"
    }
   },
   "outputs": [],
   "source": [
    "taxi = ('/mnt/processed/private/msds2021/lt6/chicago-dataset/sample/'\n",
    "        'taxi_weather.csv')\n",
    "df = pd.read_csv(taxi, low_memory=False).drop_duplicates()"
   ]
  },
  {
   "cell_type": "code",
   "execution_count": 4,
   "metadata": {
    "ExecuteTime": {
     "end_time": "2020-08-21T17:12:26.532796Z",
     "start_time": "2020-08-21T17:12:26.482025Z"
    }
   },
   "outputs": [
    {
     "name": "stdout",
     "output_type": "stream",
     "text": [
      "Shape: (317914, 27)\n"
     ]
    },
    {
     "data": {
      "text/html": [
       "<div>\n",
       "<style scoped>\n",
       "    .dataframe tbody tr th:only-of-type {\n",
       "        vertical-align: middle;\n",
       "    }\n",
       "\n",
       "    .dataframe tbody tr th {\n",
       "        vertical-align: top;\n",
       "    }\n",
       "\n",
       "    .dataframe thead th {\n",
       "        text-align: right;\n",
       "    }\n",
       "</style>\n",
       "<table border=\"1\" class=\"dataframe\">\n",
       "  <thead>\n",
       "    <tr style=\"text-align: right;\">\n",
       "      <th></th>\n",
       "      <th>company</th>\n",
       "      <th>dropoff_census_tract</th>\n",
       "      <th>dropoff_centroid_latitude</th>\n",
       "      <th>dropoff_centroid_location.coordinates</th>\n",
       "      <th>dropoff_centroid_location.type</th>\n",
       "      <th>dropoff_centroid_longitude</th>\n",
       "      <th>dropoff_community_area</th>\n",
       "      <th>extras</th>\n",
       "      <th>fare</th>\n",
       "      <th>payment_type</th>\n",
       "      <th>...</th>\n",
       "      <th>tips</th>\n",
       "      <th>tolls</th>\n",
       "      <th>trip_end_timestamp</th>\n",
       "      <th>trip_id</th>\n",
       "      <th>trip_miles</th>\n",
       "      <th>trip_seconds</th>\n",
       "      <th>trip_start_timestamp</th>\n",
       "      <th>trip_total</th>\n",
       "      <th>Type</th>\n",
       "      <th>Severity</th>\n",
       "    </tr>\n",
       "  </thead>\n",
       "  <tbody>\n",
       "    <tr>\n",
       "      <th>0</th>\n",
       "      <td>Chicago Carriage Cab Corp</td>\n",
       "      <td>NaN</td>\n",
       "      <td>41.901207</td>\n",
       "      <td>[-87.6763559892, 41.90120699410001]</td>\n",
       "      <td>Point</td>\n",
       "      <td>-87.676356</td>\n",
       "      <td>24.0</td>\n",
       "      <td>1.0</td>\n",
       "      <td>12.25</td>\n",
       "      <td>Cash</td>\n",
       "      <td>...</td>\n",
       "      <td>0.0</td>\n",
       "      <td>0.0</td>\n",
       "      <td>2019-01-01 00:15:00</td>\n",
       "      <td>073b50b66398bf053747a5029ed98ab900040172</td>\n",
       "      <td>3.43</td>\n",
       "      <td>705.0</td>\n",
       "      <td>2019-01-01 00:00:00</td>\n",
       "      <td>13.25</td>\n",
       "      <td>Rain</td>\n",
       "      <td>Light</td>\n",
       "    </tr>\n",
       "    <tr>\n",
       "      <th>1</th>\n",
       "      <td>24 Seven Taxi</td>\n",
       "      <td>1.703183e+10</td>\n",
       "      <td>41.879067</td>\n",
       "      <td>[-87.657005027, 41.8790669938]</td>\n",
       "      <td>Point</td>\n",
       "      <td>-87.657005</td>\n",
       "      <td>28.0</td>\n",
       "      <td>2.0</td>\n",
       "      <td>9.00</td>\n",
       "      <td>Credit Card</td>\n",
       "      <td>...</td>\n",
       "      <td>2.0</td>\n",
       "      <td>0.0</td>\n",
       "      <td>2019-01-01 00:15:00</td>\n",
       "      <td>5a18ed944588e71220a19bde7bb8fea00ab9a1e3</td>\n",
       "      <td>1.67</td>\n",
       "      <td>772.0</td>\n",
       "      <td>2019-01-01 00:00:00</td>\n",
       "      <td>13.50</td>\n",
       "      <td>Rain</td>\n",
       "      <td>Light</td>\n",
       "    </tr>\n",
       "    <tr>\n",
       "      <th>2</th>\n",
       "      <td>Flash Cab</td>\n",
       "      <td>NaN</td>\n",
       "      <td>41.900070</td>\n",
       "      <td>[-87.7209182385, 41.9000696026]</td>\n",
       "      <td>Point</td>\n",
       "      <td>-87.720918</td>\n",
       "      <td>23.0</td>\n",
       "      <td>0.0</td>\n",
       "      <td>9.50</td>\n",
       "      <td>Cash</td>\n",
       "      <td>...</td>\n",
       "      <td>0.0</td>\n",
       "      <td>0.0</td>\n",
       "      <td>2019-01-01 00:15:00</td>\n",
       "      <td>f8662b747e43cdec0b545671c6f7be27ef6dbcd3</td>\n",
       "      <td>2.56</td>\n",
       "      <td>831.0</td>\n",
       "      <td>2019-01-01 00:00:00</td>\n",
       "      <td>9.50</td>\n",
       "      <td>Rain</td>\n",
       "      <td>Light</td>\n",
       "    </tr>\n",
       "    <tr>\n",
       "      <th>3</th>\n",
       "      <td>Flash Cab</td>\n",
       "      <td>1.703132e+10</td>\n",
       "      <td>41.877406</td>\n",
       "      <td>[-87.6219716519, 41.8774061234]</td>\n",
       "      <td>Point</td>\n",
       "      <td>-87.621972</td>\n",
       "      <td>32.0</td>\n",
       "      <td>0.0</td>\n",
       "      <td>15.75</td>\n",
       "      <td>Cash</td>\n",
       "      <td>...</td>\n",
       "      <td>0.0</td>\n",
       "      <td>0.0</td>\n",
       "      <td>2019-01-01 00:15:00</td>\n",
       "      <td>0f02393355c7bb00064194a4deed1ae950693bd2</td>\n",
       "      <td>5.04</td>\n",
       "      <td>996.0</td>\n",
       "      <td>2019-01-01 00:00:00</td>\n",
       "      <td>15.75</td>\n",
       "      <td>Rain</td>\n",
       "      <td>Light</td>\n",
       "    </tr>\n",
       "    <tr>\n",
       "      <th>4</th>\n",
       "      <td>Flash Cab</td>\n",
       "      <td>1.703184e+10</td>\n",
       "      <td>41.880994</td>\n",
       "      <td>[-87.6327464887, 41.8809944707]</td>\n",
       "      <td>Point</td>\n",
       "      <td>-87.632746</td>\n",
       "      <td>32.0</td>\n",
       "      <td>1.0</td>\n",
       "      <td>16.75</td>\n",
       "      <td>Cash</td>\n",
       "      <td>...</td>\n",
       "      <td>0.0</td>\n",
       "      <td>NaN</td>\n",
       "      <td>2019-01-01 00:30:00</td>\n",
       "      <td>3bfa0f260d521734d295fdd5e25c508b17a8ffec</td>\n",
       "      <td>4.90</td>\n",
       "      <td>1219.0</td>\n",
       "      <td>2019-01-01 00:15:00</td>\n",
       "      <td>17.75</td>\n",
       "      <td>Rain</td>\n",
       "      <td>Light</td>\n",
       "    </tr>\n",
       "  </tbody>\n",
       "</table>\n",
       "<p>5 rows × 27 columns</p>\n",
       "</div>"
      ],
      "text/plain": [
       "                     company  dropoff_census_tract  dropoff_centroid_latitude  \\\n",
       "0  Chicago Carriage Cab Corp                   NaN                  41.901207   \n",
       "1              24 Seven Taxi          1.703183e+10                  41.879067   \n",
       "2                  Flash Cab                   NaN                  41.900070   \n",
       "3                  Flash Cab          1.703132e+10                  41.877406   \n",
       "4                  Flash Cab          1.703184e+10                  41.880994   \n",
       "\n",
       "  dropoff_centroid_location.coordinates dropoff_centroid_location.type  \\\n",
       "0   [-87.6763559892, 41.90120699410001]                          Point   \n",
       "1        [-87.657005027, 41.8790669938]                          Point   \n",
       "2       [-87.7209182385, 41.9000696026]                          Point   \n",
       "3       [-87.6219716519, 41.8774061234]                          Point   \n",
       "4       [-87.6327464887, 41.8809944707]                          Point   \n",
       "\n",
       "   dropoff_centroid_longitude  dropoff_community_area  extras   fare  \\\n",
       "0                  -87.676356                    24.0     1.0  12.25   \n",
       "1                  -87.657005                    28.0     2.0   9.00   \n",
       "2                  -87.720918                    23.0     0.0   9.50   \n",
       "3                  -87.621972                    32.0     0.0  15.75   \n",
       "4                  -87.632746                    32.0     1.0  16.75   \n",
       "\n",
       "  payment_type  ...  tips  tolls   trip_end_timestamp  \\\n",
       "0         Cash  ...   0.0    0.0  2019-01-01 00:15:00   \n",
       "1  Credit Card  ...   2.0    0.0  2019-01-01 00:15:00   \n",
       "2         Cash  ...   0.0    0.0  2019-01-01 00:15:00   \n",
       "3         Cash  ...   0.0    0.0  2019-01-01 00:15:00   \n",
       "4         Cash  ...   0.0    NaN  2019-01-01 00:30:00   \n",
       "\n",
       "                                    trip_id  trip_miles  trip_seconds  \\\n",
       "0  073b50b66398bf053747a5029ed98ab900040172        3.43         705.0   \n",
       "1  5a18ed944588e71220a19bde7bb8fea00ab9a1e3        1.67         772.0   \n",
       "2  f8662b747e43cdec0b545671c6f7be27ef6dbcd3        2.56         831.0   \n",
       "3  0f02393355c7bb00064194a4deed1ae950693bd2        5.04         996.0   \n",
       "4  3bfa0f260d521734d295fdd5e25c508b17a8ffec        4.90        1219.0   \n",
       "\n",
       "  trip_start_timestamp  trip_total  Type Severity  \n",
       "0  2019-01-01 00:00:00       13.25  Rain    Light  \n",
       "1  2019-01-01 00:00:00       13.50  Rain    Light  \n",
       "2  2019-01-01 00:00:00        9.50  Rain    Light  \n",
       "3  2019-01-01 00:00:00       15.75  Rain    Light  \n",
       "4  2019-01-01 00:15:00       17.75  Rain    Light  \n",
       "\n",
       "[5 rows x 27 columns]"
      ]
     },
     "execution_count": 4,
     "metadata": {},
     "output_type": "execute_result"
    }
   ],
   "source": [
    "print(\"Shape:\", df.shape)\n",
    "df.head()"
   ]
  },
  {
   "cell_type": "markdown",
   "metadata": {},
   "source": [
    "## Clean-up"
   ]
  },
  {
   "cell_type": "markdown",
   "metadata": {},
   "source": [
    "Drop columns that won't be used"
   ]
  },
  {
   "cell_type": "code",
   "execution_count": 5,
   "metadata": {
    "ExecuteTime": {
     "end_time": "2020-08-21T17:12:27.923560Z",
     "start_time": "2020-08-21T17:12:27.873805Z"
    }
   },
   "outputs": [],
   "source": [
    "df.drop(columns=['dropoff_census_tract', 'pickup_census_tract',\n",
    "                 'dropoff_centroid_location.coordinates',\n",
    "                 'pickup_centroid_location.coordinates',\n",
    "                 'dropoff_centroid_location.type', \n",
    "                 'pickup_centroid_location.type',\n",
    "                 'taxi_id'],\n",
    "        inplace=True, errors='ignore')"
   ]
  },
  {
   "cell_type": "markdown",
   "metadata": {},
   "source": [
    "Rename some columns."
   ]
  },
  {
   "cell_type": "code",
   "execution_count": 6,
   "metadata": {
    "ExecuteTime": {
     "end_time": "2020-08-21T17:12:28.629377Z",
     "start_time": "2020-08-21T17:12:28.572294Z"
    }
   },
   "outputs": [],
   "source": [
    "df.rename(columns={'tips': 'tip'}, inplace=True)"
   ]
  },
  {
   "cell_type": "markdown",
   "metadata": {},
   "source": [
    "Drop rows with no info on the following.\n",
    "\n",
    "For this stage we drop erroneous data such as dataset with no trip distance, duration, fare, total. And we'll also consider only inter-city travel so we remove trips that go to or come from outside the city limits (denoted by the null drop-off/pick-up centroids or null longitude/latitudes."
   ]
  },
  {
   "cell_type": "code",
   "execution_count": 7,
   "metadata": {
    "ExecuteTime": {
     "end_time": "2020-08-21T17:12:29.434754Z",
     "start_time": "2020-08-21T17:12:29.336206Z"
    }
   },
   "outputs": [
    {
     "data": {
      "text/plain": [
       "(240304, 20)"
      ]
     },
     "execution_count": 7,
     "metadata": {},
     "output_type": "execute_result"
    }
   ],
   "source": [
    "# Drop Erroneous Data, No Trip Miles / Seconds\n",
    "df.drop(df[(df['trip_miles'] == 0) | (df['trip_miles'].isna()) |\n",
    "           (df['trip_seconds'] == 0) | (df['trip_seconds'].isna()) |\n",
    "           (df['fare'] == 0) | (df['fare'].isna()) |\n",
    "           (df['trip_total'] == 0) | (df['trip_total'].isna()) |\n",
    "           (df['pickup_centroid_latitude'] == 0) |\n",
    "           (df['pickup_centroid_latitude'].isna()) |\n",
    "           (df['dropoff_centroid_latitude'] == 0) |\n",
    "           (df['dropoff_centroid_longitude'].isna()) |\n",
    "           (df['pickup_community_area'].isna()) |\n",
    "           (df['dropoff_community_area'].isna())\n",
    "          ].index, inplace=True)\n",
    "df.shape"
   ]
  },
  {
   "cell_type": "markdown",
   "metadata": {},
   "source": [
    "# Impute"
   ]
  },
  {
   "cell_type": "markdown",
   "metadata": {},
   "source": [
    "Check for null values."
   ]
  },
  {
   "cell_type": "code",
   "execution_count": 8,
   "metadata": {
    "ExecuteTime": {
     "end_time": "2020-08-21T17:12:30.661538Z",
     "start_time": "2020-08-21T17:12:30.567152Z"
    },
    "scrolled": true
   },
   "outputs": [
    {
     "name": "stdout",
     "output_type": "stream",
     "text": [
      "<class 'pandas.core.frame.DataFrame'>\n",
      "Int64Index: 240304 entries, 0 to 317913\n",
      "Data columns (total 20 columns):\n",
      " #   Column                      Non-Null Count   Dtype  \n",
      "---  ------                      --------------   -----  \n",
      " 0   company                     240304 non-null  object \n",
      " 1   dropoff_centroid_latitude   240304 non-null  float64\n",
      " 2   dropoff_centroid_longitude  240304 non-null  float64\n",
      " 3   dropoff_community_area      240304 non-null  float64\n",
      " 4   extras                      240304 non-null  float64\n",
      " 5   fare                        240304 non-null  float64\n",
      " 6   payment_type                240304 non-null  object \n",
      " 7   pickup_centroid_latitude    240304 non-null  float64\n",
      " 8   pickup_centroid_longitude   240304 non-null  float64\n",
      " 9   pickup_community_area       240304 non-null  float64\n",
      " 10  tip                         240304 non-null  float64\n",
      " 11  tolls                       236049 non-null  float64\n",
      " 12  trip_end_timestamp          240304 non-null  object \n",
      " 13  trip_id                     240304 non-null  object \n",
      " 14  trip_miles                  240304 non-null  float64\n",
      " 15  trip_seconds                240304 non-null  float64\n",
      " 16  trip_start_timestamp        240304 non-null  object \n",
      " 17  trip_total                  240304 non-null  float64\n",
      " 18  Type                        35975 non-null   object \n",
      " 19  Severity                    35975 non-null   object \n",
      "dtypes: float64(13), object(7)\n",
      "memory usage: 38.5+ MB\n"
     ]
    }
   ],
   "source": [
    "df.info()"
   ]
  },
  {
   "cell_type": "markdown",
   "metadata": {},
   "source": [
    "Set null `tolls` to 0 since we can't assume that these trips had any toll information."
   ]
  },
  {
   "cell_type": "code",
   "execution_count": 9,
   "metadata": {
    "ExecuteTime": {
     "end_time": "2020-08-21T17:12:31.443956Z",
     "start_time": "2020-08-21T17:12:31.429507Z"
    }
   },
   "outputs": [],
   "source": [
    "df.loc[df.tolls.isna(), 'tolls'] = 0"
   ]
  },
  {
   "cell_type": "markdown",
   "metadata": {},
   "source": [
    "Fix the mapping of `payment_type` to better groupings. There are too many payment types but based on the documentation, some are similar (e.g. Prcard, Pcard and Prepaid) so we'll re-map the `payment_type` values. We'll also create a `payment_is_cashless` as a new feature."
   ]
  },
  {
   "cell_type": "code",
   "execution_count": 10,
   "metadata": {
    "ExecuteTime": {
     "end_time": "2020-08-21T17:12:32.312384Z",
     "start_time": "2020-08-21T17:12:32.201534Z"
    }
   },
   "outputs": [],
   "source": [
    "payment_map = {'Cash': 'cash',\n",
    "               'Credit Card': 'credit_card',\n",
    "               'Mobile': 'mobile',\n",
    "               'Unknown': 'unknown',\n",
    "               'Prcard': 'prepaid_card',\n",
    "               'No Charge': 'unknown',\n",
    "               'Dispute': 'unknown',\n",
    "               'Pcard': 'prepaid_card',\n",
    "               'Prepaid': 'prepaid_card'}\n",
    "cashless_map = {'cash': 'cash',\n",
    "                'credit_card': 'cashless',\n",
    "                'mobile': 'cashless',\n",
    "                'prepaid_card': 'cashless',\n",
    "                'unknown': 'unknown'}\n",
    "df.loc[:, 'payment_type'] = df.payment_type.map(payment_map)\n",
    "df.loc[:, 'payment_is_cashless'] = df.payment_type.map(cashless_map)"
   ]
  },
  {
   "cell_type": "markdown",
   "metadata": {},
   "source": [
    "## Check Final Taxi Dataset\n",
    "\n",
    "Let's check if the dataset still contains null values."
   ]
  },
  {
   "cell_type": "code",
   "execution_count": 11,
   "metadata": {
    "ExecuteTime": {
     "end_time": "2020-08-21T17:12:33.996727Z",
     "start_time": "2020-08-21T17:12:33.863457Z"
    },
    "scrolled": false
   },
   "outputs": [
    {
     "data": {
      "text/plain": [
       "company                        True\n",
       "dropoff_centroid_latitude      True\n",
       "dropoff_centroid_longitude     True\n",
       "dropoff_community_area         True\n",
       "extras                         True\n",
       "fare                           True\n",
       "payment_type                   True\n",
       "pickup_centroid_latitude       True\n",
       "pickup_centroid_longitude      True\n",
       "pickup_community_area          True\n",
       "tip                            True\n",
       "tolls                          True\n",
       "trip_end_timestamp             True\n",
       "trip_id                        True\n",
       "trip_miles                     True\n",
       "trip_seconds                   True\n",
       "trip_start_timestamp           True\n",
       "trip_total                     True\n",
       "Type                          False\n",
       "Severity                      False\n",
       "payment_is_cashless            True\n",
       "dtype: bool"
      ]
     },
     "execution_count": 11,
     "metadata": {},
     "output_type": "execute_result"
    }
   ],
   "source": [
    "(~df.isna()).all()"
   ]
  },
  {
   "cell_type": "code",
   "execution_count": 12,
   "metadata": {
    "ExecuteTime": {
     "end_time": "2020-08-21T17:12:35.129407Z",
     "start_time": "2020-08-21T17:12:35.087070Z"
    }
   },
   "outputs": [
    {
     "name": "stdout",
     "output_type": "stream",
     "text": [
      "Shape: (240304, 21)\n"
     ]
    },
    {
     "data": {
      "text/html": [
       "<div>\n",
       "<style scoped>\n",
       "    .dataframe tbody tr th:only-of-type {\n",
       "        vertical-align: middle;\n",
       "    }\n",
       "\n",
       "    .dataframe tbody tr th {\n",
       "        vertical-align: top;\n",
       "    }\n",
       "\n",
       "    .dataframe thead th {\n",
       "        text-align: right;\n",
       "    }\n",
       "</style>\n",
       "<table border=\"1\" class=\"dataframe\">\n",
       "  <thead>\n",
       "    <tr style=\"text-align: right;\">\n",
       "      <th></th>\n",
       "      <th>company</th>\n",
       "      <th>dropoff_centroid_latitude</th>\n",
       "      <th>dropoff_centroid_longitude</th>\n",
       "      <th>dropoff_community_area</th>\n",
       "      <th>extras</th>\n",
       "      <th>fare</th>\n",
       "      <th>payment_type</th>\n",
       "      <th>pickup_centroid_latitude</th>\n",
       "      <th>pickup_centroid_longitude</th>\n",
       "      <th>pickup_community_area</th>\n",
       "      <th>...</th>\n",
       "      <th>tolls</th>\n",
       "      <th>trip_end_timestamp</th>\n",
       "      <th>trip_id</th>\n",
       "      <th>trip_miles</th>\n",
       "      <th>trip_seconds</th>\n",
       "      <th>trip_start_timestamp</th>\n",
       "      <th>trip_total</th>\n",
       "      <th>Type</th>\n",
       "      <th>Severity</th>\n",
       "      <th>payment_is_cashless</th>\n",
       "    </tr>\n",
       "  </thead>\n",
       "  <tbody>\n",
       "    <tr>\n",
       "      <th>0</th>\n",
       "      <td>Chicago Carriage Cab Corp</td>\n",
       "      <td>41.901207</td>\n",
       "      <td>-87.676356</td>\n",
       "      <td>24.0</td>\n",
       "      <td>1.0</td>\n",
       "      <td>12.25</td>\n",
       "      <td>cash</td>\n",
       "      <td>41.899602</td>\n",
       "      <td>-87.633308</td>\n",
       "      <td>8.0</td>\n",
       "      <td>...</td>\n",
       "      <td>0.0</td>\n",
       "      <td>2019-01-01 00:15:00</td>\n",
       "      <td>073b50b66398bf053747a5029ed98ab900040172</td>\n",
       "      <td>3.43</td>\n",
       "      <td>705.0</td>\n",
       "      <td>2019-01-01 00:00:00</td>\n",
       "      <td>13.25</td>\n",
       "      <td>Rain</td>\n",
       "      <td>Light</td>\n",
       "      <td>cash</td>\n",
       "    </tr>\n",
       "    <tr>\n",
       "      <th>1</th>\n",
       "      <td>24 Seven Taxi</td>\n",
       "      <td>41.879067</td>\n",
       "      <td>-87.657005</td>\n",
       "      <td>28.0</td>\n",
       "      <td>2.0</td>\n",
       "      <td>9.00</td>\n",
       "      <td>credit_card</td>\n",
       "      <td>41.892042</td>\n",
       "      <td>-87.631864</td>\n",
       "      <td>8.0</td>\n",
       "      <td>...</td>\n",
       "      <td>0.0</td>\n",
       "      <td>2019-01-01 00:15:00</td>\n",
       "      <td>5a18ed944588e71220a19bde7bb8fea00ab9a1e3</td>\n",
       "      <td>1.67</td>\n",
       "      <td>772.0</td>\n",
       "      <td>2019-01-01 00:00:00</td>\n",
       "      <td>13.50</td>\n",
       "      <td>Rain</td>\n",
       "      <td>Light</td>\n",
       "      <td>cashless</td>\n",
       "    </tr>\n",
       "    <tr>\n",
       "      <th>2</th>\n",
       "      <td>Flash Cab</td>\n",
       "      <td>41.900070</td>\n",
       "      <td>-87.720918</td>\n",
       "      <td>23.0</td>\n",
       "      <td>0.0</td>\n",
       "      <td>9.50</td>\n",
       "      <td>cash</td>\n",
       "      <td>41.922761</td>\n",
       "      <td>-87.699155</td>\n",
       "      <td>22.0</td>\n",
       "      <td>...</td>\n",
       "      <td>0.0</td>\n",
       "      <td>2019-01-01 00:15:00</td>\n",
       "      <td>f8662b747e43cdec0b545671c6f7be27ef6dbcd3</td>\n",
       "      <td>2.56</td>\n",
       "      <td>831.0</td>\n",
       "      <td>2019-01-01 00:00:00</td>\n",
       "      <td>9.50</td>\n",
       "      <td>Rain</td>\n",
       "      <td>Light</td>\n",
       "      <td>cash</td>\n",
       "    </tr>\n",
       "    <tr>\n",
       "      <th>3</th>\n",
       "      <td>Flash Cab</td>\n",
       "      <td>41.877406</td>\n",
       "      <td>-87.621972</td>\n",
       "      <td>32.0</td>\n",
       "      <td>0.0</td>\n",
       "      <td>15.75</td>\n",
       "      <td>cash</td>\n",
       "      <td>41.921778</td>\n",
       "      <td>-87.651062</td>\n",
       "      <td>7.0</td>\n",
       "      <td>...</td>\n",
       "      <td>0.0</td>\n",
       "      <td>2019-01-01 00:15:00</td>\n",
       "      <td>0f02393355c7bb00064194a4deed1ae950693bd2</td>\n",
       "      <td>5.04</td>\n",
       "      <td>996.0</td>\n",
       "      <td>2019-01-01 00:00:00</td>\n",
       "      <td>15.75</td>\n",
       "      <td>Rain</td>\n",
       "      <td>Light</td>\n",
       "      <td>cash</td>\n",
       "    </tr>\n",
       "    <tr>\n",
       "      <th>4</th>\n",
       "      <td>Flash Cab</td>\n",
       "      <td>41.880994</td>\n",
       "      <td>-87.632746</td>\n",
       "      <td>32.0</td>\n",
       "      <td>1.0</td>\n",
       "      <td>16.75</td>\n",
       "      <td>cash</td>\n",
       "      <td>41.922083</td>\n",
       "      <td>-87.634156</td>\n",
       "      <td>7.0</td>\n",
       "      <td>...</td>\n",
       "      <td>0.0</td>\n",
       "      <td>2019-01-01 00:30:00</td>\n",
       "      <td>3bfa0f260d521734d295fdd5e25c508b17a8ffec</td>\n",
       "      <td>4.90</td>\n",
       "      <td>1219.0</td>\n",
       "      <td>2019-01-01 00:15:00</td>\n",
       "      <td>17.75</td>\n",
       "      <td>Rain</td>\n",
       "      <td>Light</td>\n",
       "      <td>cash</td>\n",
       "    </tr>\n",
       "  </tbody>\n",
       "</table>\n",
       "<p>5 rows × 21 columns</p>\n",
       "</div>"
      ],
      "text/plain": [
       "                     company  dropoff_centroid_latitude  \\\n",
       "0  Chicago Carriage Cab Corp                  41.901207   \n",
       "1              24 Seven Taxi                  41.879067   \n",
       "2                  Flash Cab                  41.900070   \n",
       "3                  Flash Cab                  41.877406   \n",
       "4                  Flash Cab                  41.880994   \n",
       "\n",
       "   dropoff_centroid_longitude  dropoff_community_area  extras   fare  \\\n",
       "0                  -87.676356                    24.0     1.0  12.25   \n",
       "1                  -87.657005                    28.0     2.0   9.00   \n",
       "2                  -87.720918                    23.0     0.0   9.50   \n",
       "3                  -87.621972                    32.0     0.0  15.75   \n",
       "4                  -87.632746                    32.0     1.0  16.75   \n",
       "\n",
       "  payment_type  pickup_centroid_latitude  pickup_centroid_longitude  \\\n",
       "0         cash                 41.899602                 -87.633308   \n",
       "1  credit_card                 41.892042                 -87.631864   \n",
       "2         cash                 41.922761                 -87.699155   \n",
       "3         cash                 41.921778                 -87.651062   \n",
       "4         cash                 41.922083                 -87.634156   \n",
       "\n",
       "   pickup_community_area  ...  tolls   trip_end_timestamp  \\\n",
       "0                    8.0  ...    0.0  2019-01-01 00:15:00   \n",
       "1                    8.0  ...    0.0  2019-01-01 00:15:00   \n",
       "2                   22.0  ...    0.0  2019-01-01 00:15:00   \n",
       "3                    7.0  ...    0.0  2019-01-01 00:15:00   \n",
       "4                    7.0  ...    0.0  2019-01-01 00:30:00   \n",
       "\n",
       "                                    trip_id trip_miles  trip_seconds  \\\n",
       "0  073b50b66398bf053747a5029ed98ab900040172       3.43         705.0   \n",
       "1  5a18ed944588e71220a19bde7bb8fea00ab9a1e3       1.67         772.0   \n",
       "2  f8662b747e43cdec0b545671c6f7be27ef6dbcd3       2.56         831.0   \n",
       "3  0f02393355c7bb00064194a4deed1ae950693bd2       5.04         996.0   \n",
       "4  3bfa0f260d521734d295fdd5e25c508b17a8ffec       4.90        1219.0   \n",
       "\n",
       "   trip_start_timestamp trip_total  Type Severity payment_is_cashless  \n",
       "0   2019-01-01 00:00:00      13.25  Rain    Light                cash  \n",
       "1   2019-01-01 00:00:00      13.50  Rain    Light            cashless  \n",
       "2   2019-01-01 00:00:00       9.50  Rain    Light                cash  \n",
       "3   2019-01-01 00:00:00      15.75  Rain    Light                cash  \n",
       "4   2019-01-01 00:15:00      17.75  Rain    Light                cash  \n",
       "\n",
       "[5 rows x 21 columns]"
      ]
     },
     "execution_count": 12,
     "metadata": {},
     "output_type": "execute_result"
    }
   ],
   "source": [
    "print(\"Shape:\", df.shape)\n",
    "df.head()"
   ]
  },
  {
   "cell_type": "markdown",
   "metadata": {},
   "source": [
    "With the cleaned dataset, we'll store that in a DataFrame then get the shape information as the target size for our sampling for TNP dataset."
   ]
  },
  {
   "cell_type": "code",
   "execution_count": 13,
   "metadata": {
    "ExecuteTime": {
     "end_time": "2020-08-21T17:12:37.010676Z",
     "start_time": "2020-08-21T17:12:36.987166Z"
    }
   },
   "outputs": [],
   "source": [
    "taxi_df = df.copy()\n",
    "target_size = df.shape[0]"
   ]
  },
  {
   "cell_type": "markdown",
   "metadata": {},
   "source": [
    "# TNP Dataset"
   ]
  },
  {
   "cell_type": "code",
   "execution_count": 14,
   "metadata": {
    "ExecuteTime": {
     "end_time": "2020-08-10T15:49:31.302792Z",
     "start_time": "2020-08-10T15:49:17.459637Z"
    }
   },
   "outputs": [],
   "source": [
    "tnp = ('/mnt/processed/private/msds2021/lt6/chicago-dataset/sample/'\n",
    "        'tnp_weather.csv')\n",
    "df = pd.read_csv(tnp, low_memory=False).drop_duplicates()"
   ]
  },
  {
   "cell_type": "code",
   "execution_count": 15,
   "metadata": {
    "ExecuteTime": {
     "end_time": "2020-08-10T15:49:32.607700Z",
     "start_time": "2020-08-10T15:49:32.582699Z"
    }
   },
   "outputs": [
    {
     "name": "stdout",
     "output_type": "stream",
     "text": [
      "Shape: (2199163, 19)\n"
     ]
    },
    {
     "data": {
      "text/html": [
       "<div>\n",
       "<style scoped>\n",
       "    .dataframe tbody tr th:only-of-type {\n",
       "        vertical-align: middle;\n",
       "    }\n",
       "\n",
       "    .dataframe tbody tr th {\n",
       "        vertical-align: top;\n",
       "    }\n",
       "\n",
       "    .dataframe thead th {\n",
       "        text-align: right;\n",
       "    }\n",
       "</style>\n",
       "<table border=\"1\" class=\"dataframe\">\n",
       "  <thead>\n",
       "    <tr style=\"text-align: right;\">\n",
       "      <th></th>\n",
       "      <th>trip_id</th>\n",
       "      <th>trip_start_timestamp</th>\n",
       "      <th>trip_end_timestamp</th>\n",
       "      <th>trip_seconds</th>\n",
       "      <th>trip_miles</th>\n",
       "      <th>pickup_community_area</th>\n",
       "      <th>dropoff_community_area</th>\n",
       "      <th>fare</th>\n",
       "      <th>tip</th>\n",
       "      <th>additional_charges</th>\n",
       "      <th>trip_total</th>\n",
       "      <th>shared_trip_authorized</th>\n",
       "      <th>trips_pooled</th>\n",
       "      <th>pickup_centroid_latitude</th>\n",
       "      <th>pickup_centroid_longitude</th>\n",
       "      <th>dropoff_centroid_latitude</th>\n",
       "      <th>dropoff_centroid_longitude</th>\n",
       "      <th>Type</th>\n",
       "      <th>Severity</th>\n",
       "    </tr>\n",
       "  </thead>\n",
       "  <tbody>\n",
       "    <tr>\n",
       "      <th>0</th>\n",
       "      <td>d3f1ee5a5668dc4910897cb80706e025ac788379</td>\n",
       "      <td>2019-01-01 00:00:00</td>\n",
       "      <td>2019-01-01 00:15:00</td>\n",
       "      <td>616.0</td>\n",
       "      <td>4.652589</td>\n",
       "      <td>6.0</td>\n",
       "      <td>77.0</td>\n",
       "      <td>7.5</td>\n",
       "      <td>2.0</td>\n",
       "      <td>2.5</td>\n",
       "      <td>12.0</td>\n",
       "      <td>0</td>\n",
       "      <td>1</td>\n",
       "      <td>41.938232</td>\n",
       "      <td>-87.646782</td>\n",
       "      <td>41.993441</td>\n",
       "      <td>-87.657418</td>\n",
       "      <td>Rain</td>\n",
       "      <td>Light</td>\n",
       "    </tr>\n",
       "    <tr>\n",
       "      <th>1</th>\n",
       "      <td>daccb5cbeae6589358e2f1c3ed0a025827c23cc5</td>\n",
       "      <td>2019-01-01 00:00:00</td>\n",
       "      <td>2019-01-01 00:15:00</td>\n",
       "      <td>235.0</td>\n",
       "      <td>0.736279</td>\n",
       "      <td>6.0</td>\n",
       "      <td>7.0</td>\n",
       "      <td>2.5</td>\n",
       "      <td>0.0</td>\n",
       "      <td>2.5</td>\n",
       "      <td>5.0</td>\n",
       "      <td>0</td>\n",
       "      <td>1</td>\n",
       "      <td>41.938232</td>\n",
       "      <td>-87.646782</td>\n",
       "      <td>41.930579</td>\n",
       "      <td>-87.642206</td>\n",
       "      <td>Rain</td>\n",
       "      <td>Light</td>\n",
       "    </tr>\n",
       "    <tr>\n",
       "      <th>2</th>\n",
       "      <td>df41ec8759ea2358ba09cd53e8ce911290841ce3</td>\n",
       "      <td>2019-01-01 00:00:00</td>\n",
       "      <td>2019-01-01 00:15:00</td>\n",
       "      <td>762.0</td>\n",
       "      <td>4.660277</td>\n",
       "      <td>1.0</td>\n",
       "      <td>6.0</td>\n",
       "      <td>10.0</td>\n",
       "      <td>2.0</td>\n",
       "      <td>2.5</td>\n",
       "      <td>14.5</td>\n",
       "      <td>0</td>\n",
       "      <td>1</td>\n",
       "      <td>42.001698</td>\n",
       "      <td>-87.673574</td>\n",
       "      <td>41.946490</td>\n",
       "      <td>-87.647114</td>\n",
       "      <td>Rain</td>\n",
       "      <td>Light</td>\n",
       "    </tr>\n",
       "    <tr>\n",
       "      <th>3</th>\n",
       "      <td>e5c8cde09aa4afe214337aa1cb179fc6d120adae</td>\n",
       "      <td>2019-01-01 00:00:00</td>\n",
       "      <td>2019-01-01 00:45:00</td>\n",
       "      <td>2466.0</td>\n",
       "      <td>4.602994</td>\n",
       "      <td>28.0</td>\n",
       "      <td>8.0</td>\n",
       "      <td>17.5</td>\n",
       "      <td>0.0</td>\n",
       "      <td>2.5</td>\n",
       "      <td>20.0</td>\n",
       "      <td>0</td>\n",
       "      <td>1</td>\n",
       "      <td>41.863118</td>\n",
       "      <td>-87.672920</td>\n",
       "      <td>41.890922</td>\n",
       "      <td>-87.618868</td>\n",
       "      <td>Rain</td>\n",
       "      <td>Light</td>\n",
       "    </tr>\n",
       "    <tr>\n",
       "      <th>4</th>\n",
       "      <td>e8fc3a3a1a49d66d1666e643e5bc9a799caa4784</td>\n",
       "      <td>2019-01-01 00:00:00</td>\n",
       "      <td>2019-01-01 00:30:00</td>\n",
       "      <td>1348.0</td>\n",
       "      <td>7.968732</td>\n",
       "      <td>9.0</td>\n",
       "      <td>NaN</td>\n",
       "      <td>15.0</td>\n",
       "      <td>0.0</td>\n",
       "      <td>2.5</td>\n",
       "      <td>17.5</td>\n",
       "      <td>0</td>\n",
       "      <td>1</td>\n",
       "      <td>42.005608</td>\n",
       "      <td>-87.813098</td>\n",
       "      <td>NaN</td>\n",
       "      <td>NaN</td>\n",
       "      <td>Rain</td>\n",
       "      <td>Light</td>\n",
       "    </tr>\n",
       "  </tbody>\n",
       "</table>\n",
       "</div>"
      ],
      "text/plain": [
       "                                    trip_id trip_start_timestamp  \\\n",
       "0  d3f1ee5a5668dc4910897cb80706e025ac788379  2019-01-01 00:00:00   \n",
       "1  daccb5cbeae6589358e2f1c3ed0a025827c23cc5  2019-01-01 00:00:00   \n",
       "2  df41ec8759ea2358ba09cd53e8ce911290841ce3  2019-01-01 00:00:00   \n",
       "3  e5c8cde09aa4afe214337aa1cb179fc6d120adae  2019-01-01 00:00:00   \n",
       "4  e8fc3a3a1a49d66d1666e643e5bc9a799caa4784  2019-01-01 00:00:00   \n",
       "\n",
       "    trip_end_timestamp  trip_seconds  trip_miles  pickup_community_area  \\\n",
       "0  2019-01-01 00:15:00         616.0    4.652589                    6.0   \n",
       "1  2019-01-01 00:15:00         235.0    0.736279                    6.0   \n",
       "2  2019-01-01 00:15:00         762.0    4.660277                    1.0   \n",
       "3  2019-01-01 00:45:00        2466.0    4.602994                   28.0   \n",
       "4  2019-01-01 00:30:00        1348.0    7.968732                    9.0   \n",
       "\n",
       "   dropoff_community_area  fare  tip  additional_charges  trip_total  \\\n",
       "0                    77.0   7.5  2.0                 2.5        12.0   \n",
       "1                     7.0   2.5  0.0                 2.5         5.0   \n",
       "2                     6.0  10.0  2.0                 2.5        14.5   \n",
       "3                     8.0  17.5  0.0                 2.5        20.0   \n",
       "4                     NaN  15.0  0.0                 2.5        17.5   \n",
       "\n",
       "   shared_trip_authorized  trips_pooled  pickup_centroid_latitude  \\\n",
       "0                       0             1                 41.938232   \n",
       "1                       0             1                 41.938232   \n",
       "2                       0             1                 42.001698   \n",
       "3                       0             1                 41.863118   \n",
       "4                       0             1                 42.005608   \n",
       "\n",
       "   pickup_centroid_longitude  dropoff_centroid_latitude  \\\n",
       "0                 -87.646782                  41.993441   \n",
       "1                 -87.646782                  41.930579   \n",
       "2                 -87.673574                  41.946490   \n",
       "3                 -87.672920                  41.890922   \n",
       "4                 -87.813098                        NaN   \n",
       "\n",
       "   dropoff_centroid_longitude  Type Severity  \n",
       "0                  -87.657418  Rain    Light  \n",
       "1                  -87.642206  Rain    Light  \n",
       "2                  -87.647114  Rain    Light  \n",
       "3                  -87.618868  Rain    Light  \n",
       "4                         NaN  Rain    Light  "
      ]
     },
     "execution_count": 15,
     "metadata": {},
     "output_type": "execute_result"
    }
   ],
   "source": [
    "print(\"Shape:\", df.shape)\n",
    "df.head()"
   ]
  },
  {
   "cell_type": "markdown",
   "metadata": {},
   "source": [
    "## Clean-up"
   ]
  },
  {
   "cell_type": "markdown",
   "metadata": {},
   "source": [
    "Drop columns that won't be used"
   ]
  },
  {
   "cell_type": "code",
   "execution_count": 16,
   "metadata": {
    "ExecuteTime": {
     "end_time": "2020-08-10T15:49:42.519994Z",
     "start_time": "2020-08-10T15:49:42.300740Z"
    }
   },
   "outputs": [],
   "source": [
    "df.drop(columns=['dropoff_census_tract', 'pickup_census_tract',\n",
    "                 'dropoff_centroid_location.coordinates',\n",
    "                 'pickup_centroid_location.coordinates',\n",
    "                 'dropoff_centroid_location.type', \n",
    "                 'pickup_centroid_location.type',\n",
    "                 'trips_pooled', 'shared_trip_authorized'],\n",
    "        inplace=True, errors='ignore')"
   ]
  },
  {
   "cell_type": "markdown",
   "metadata": {},
   "source": [
    "Drop rows with no info on the following:"
   ]
  },
  {
   "cell_type": "code",
   "execution_count": 17,
   "metadata": {
    "ExecuteTime": {
     "end_time": "2020-08-10T15:49:44.450614Z",
     "start_time": "2020-08-10T15:49:43.756897Z"
    }
   },
   "outputs": [
    {
     "data": {
      "text/plain": [
       "(1883589, 17)"
      ]
     },
     "execution_count": 17,
     "metadata": {},
     "output_type": "execute_result"
    }
   ],
   "source": [
    "# Drop Erroneous Data, No Trip Miles / Seconds\n",
    "df.drop(df[(df['trip_miles'] == 0) | (df['trip_miles'].isna()) |\n",
    "           (df['trip_seconds'] == 0) | (df['trip_seconds'].isna()) |\n",
    "           (df['fare'] == 0) | (df['fare'].isna()) |\n",
    "           (df['trip_total'] == 0) | (df['trip_total'].isna()) |\n",
    "           (df['pickup_centroid_latitude'] == 0) |\n",
    "           (df['pickup_centroid_longitude'].isna()) |\n",
    "           (df['dropoff_centroid_latitude'] == 0) |\n",
    "           (df['dropoff_centroid_longitude'].isna()) |\n",
    "           (df['pickup_community_area'].isna()) |\n",
    "           (df['dropoff_community_area'].isna())\n",
    "          ].index, inplace=True)\n",
    "df.shape"
   ]
  },
  {
   "cell_type": "markdown",
   "metadata": {},
   "source": [
    "# Impute"
   ]
  },
  {
   "cell_type": "markdown",
   "metadata": {},
   "source": [
    "Check for null values"
   ]
  },
  {
   "cell_type": "code",
   "execution_count": 18,
   "metadata": {
    "ExecuteTime": {
     "end_time": "2020-08-10T15:49:46.178717Z",
     "start_time": "2020-08-10T15:49:45.681112Z"
    },
    "scrolled": true
   },
   "outputs": [
    {
     "data": {
      "text/plain": [
       "trip_id                        True\n",
       "trip_start_timestamp           True\n",
       "trip_end_timestamp             True\n",
       "trip_seconds                   True\n",
       "trip_miles                     True\n",
       "pickup_community_area          True\n",
       "dropoff_community_area         True\n",
       "fare                           True\n",
       "tip                            True\n",
       "additional_charges             True\n",
       "trip_total                     True\n",
       "pickup_centroid_latitude       True\n",
       "pickup_centroid_longitude      True\n",
       "dropoff_centroid_latitude      True\n",
       "dropoff_centroid_longitude     True\n",
       "Type                          False\n",
       "Severity                      False\n",
       "dtype: bool"
      ]
     },
     "execution_count": 18,
     "metadata": {},
     "output_type": "execute_result"
    }
   ],
   "source": [
    "(~df.isna()).all()"
   ]
  },
  {
   "cell_type": "code",
   "execution_count": 21,
   "metadata": {
    "ExecuteTime": {
     "end_time": "2020-08-10T15:49:50.717386Z",
     "start_time": "2020-08-10T15:49:50.694478Z"
    }
   },
   "outputs": [
    {
     "name": "stdout",
     "output_type": "stream",
     "text": [
      "Shape: (1883589, 17)\n"
     ]
    },
    {
     "data": {
      "text/html": [
       "<div>\n",
       "<style scoped>\n",
       "    .dataframe tbody tr th:only-of-type {\n",
       "        vertical-align: middle;\n",
       "    }\n",
       "\n",
       "    .dataframe tbody tr th {\n",
       "        vertical-align: top;\n",
       "    }\n",
       "\n",
       "    .dataframe thead th {\n",
       "        text-align: right;\n",
       "    }\n",
       "</style>\n",
       "<table border=\"1\" class=\"dataframe\">\n",
       "  <thead>\n",
       "    <tr style=\"text-align: right;\">\n",
       "      <th></th>\n",
       "      <th>trip_id</th>\n",
       "      <th>trip_start_timestamp</th>\n",
       "      <th>trip_end_timestamp</th>\n",
       "      <th>trip_seconds</th>\n",
       "      <th>trip_miles</th>\n",
       "      <th>pickup_community_area</th>\n",
       "      <th>dropoff_community_area</th>\n",
       "      <th>fare</th>\n",
       "      <th>tip</th>\n",
       "      <th>additional_charges</th>\n",
       "      <th>trip_total</th>\n",
       "      <th>pickup_centroid_latitude</th>\n",
       "      <th>pickup_centroid_longitude</th>\n",
       "      <th>dropoff_centroid_latitude</th>\n",
       "      <th>dropoff_centroid_longitude</th>\n",
       "      <th>Type</th>\n",
       "      <th>Severity</th>\n",
       "    </tr>\n",
       "  </thead>\n",
       "  <tbody>\n",
       "    <tr>\n",
       "      <th>0</th>\n",
       "      <td>d3f1ee5a5668dc4910897cb80706e025ac788379</td>\n",
       "      <td>2019-01-01 00:00:00</td>\n",
       "      <td>2019-01-01 00:15:00</td>\n",
       "      <td>616.0</td>\n",
       "      <td>4.652589</td>\n",
       "      <td>6.0</td>\n",
       "      <td>77.0</td>\n",
       "      <td>7.5</td>\n",
       "      <td>2.0</td>\n",
       "      <td>2.5</td>\n",
       "      <td>12.0</td>\n",
       "      <td>41.938232</td>\n",
       "      <td>-87.646782</td>\n",
       "      <td>41.993441</td>\n",
       "      <td>-87.657418</td>\n",
       "      <td>Rain</td>\n",
       "      <td>Light</td>\n",
       "    </tr>\n",
       "    <tr>\n",
       "      <th>1</th>\n",
       "      <td>daccb5cbeae6589358e2f1c3ed0a025827c23cc5</td>\n",
       "      <td>2019-01-01 00:00:00</td>\n",
       "      <td>2019-01-01 00:15:00</td>\n",
       "      <td>235.0</td>\n",
       "      <td>0.736279</td>\n",
       "      <td>6.0</td>\n",
       "      <td>7.0</td>\n",
       "      <td>2.5</td>\n",
       "      <td>0.0</td>\n",
       "      <td>2.5</td>\n",
       "      <td>5.0</td>\n",
       "      <td>41.938232</td>\n",
       "      <td>-87.646782</td>\n",
       "      <td>41.930579</td>\n",
       "      <td>-87.642206</td>\n",
       "      <td>Rain</td>\n",
       "      <td>Light</td>\n",
       "    </tr>\n",
       "    <tr>\n",
       "      <th>2</th>\n",
       "      <td>df41ec8759ea2358ba09cd53e8ce911290841ce3</td>\n",
       "      <td>2019-01-01 00:00:00</td>\n",
       "      <td>2019-01-01 00:15:00</td>\n",
       "      <td>762.0</td>\n",
       "      <td>4.660277</td>\n",
       "      <td>1.0</td>\n",
       "      <td>6.0</td>\n",
       "      <td>10.0</td>\n",
       "      <td>2.0</td>\n",
       "      <td>2.5</td>\n",
       "      <td>14.5</td>\n",
       "      <td>42.001698</td>\n",
       "      <td>-87.673574</td>\n",
       "      <td>41.946490</td>\n",
       "      <td>-87.647114</td>\n",
       "      <td>Rain</td>\n",
       "      <td>Light</td>\n",
       "    </tr>\n",
       "    <tr>\n",
       "      <th>3</th>\n",
       "      <td>e5c8cde09aa4afe214337aa1cb179fc6d120adae</td>\n",
       "      <td>2019-01-01 00:00:00</td>\n",
       "      <td>2019-01-01 00:45:00</td>\n",
       "      <td>2466.0</td>\n",
       "      <td>4.602994</td>\n",
       "      <td>28.0</td>\n",
       "      <td>8.0</td>\n",
       "      <td>17.5</td>\n",
       "      <td>0.0</td>\n",
       "      <td>2.5</td>\n",
       "      <td>20.0</td>\n",
       "      <td>41.863118</td>\n",
       "      <td>-87.672920</td>\n",
       "      <td>41.890922</td>\n",
       "      <td>-87.618868</td>\n",
       "      <td>Rain</td>\n",
       "      <td>Light</td>\n",
       "    </tr>\n",
       "    <tr>\n",
       "      <th>5</th>\n",
       "      <td>f71c2bde16576fe46495ba9b38b5d6823bcd18f1</td>\n",
       "      <td>2019-01-01 00:00:00</td>\n",
       "      <td>2019-01-01 00:15:00</td>\n",
       "      <td>823.0</td>\n",
       "      <td>8.963933</td>\n",
       "      <td>15.0</td>\n",
       "      <td>28.0</td>\n",
       "      <td>12.5</td>\n",
       "      <td>0.0</td>\n",
       "      <td>2.5</td>\n",
       "      <td>15.0</td>\n",
       "      <td>41.954028</td>\n",
       "      <td>-87.763399</td>\n",
       "      <td>41.874005</td>\n",
       "      <td>-87.663518</td>\n",
       "      <td>Rain</td>\n",
       "      <td>Light</td>\n",
       "    </tr>\n",
       "  </tbody>\n",
       "</table>\n",
       "</div>"
      ],
      "text/plain": [
       "                                    trip_id trip_start_timestamp  \\\n",
       "0  d3f1ee5a5668dc4910897cb80706e025ac788379  2019-01-01 00:00:00   \n",
       "1  daccb5cbeae6589358e2f1c3ed0a025827c23cc5  2019-01-01 00:00:00   \n",
       "2  df41ec8759ea2358ba09cd53e8ce911290841ce3  2019-01-01 00:00:00   \n",
       "3  e5c8cde09aa4afe214337aa1cb179fc6d120adae  2019-01-01 00:00:00   \n",
       "5  f71c2bde16576fe46495ba9b38b5d6823bcd18f1  2019-01-01 00:00:00   \n",
       "\n",
       "    trip_end_timestamp  trip_seconds  trip_miles  pickup_community_area  \\\n",
       "0  2019-01-01 00:15:00         616.0    4.652589                    6.0   \n",
       "1  2019-01-01 00:15:00         235.0    0.736279                    6.0   \n",
       "2  2019-01-01 00:15:00         762.0    4.660277                    1.0   \n",
       "3  2019-01-01 00:45:00        2466.0    4.602994                   28.0   \n",
       "5  2019-01-01 00:15:00         823.0    8.963933                   15.0   \n",
       "\n",
       "   dropoff_community_area  fare  tip  additional_charges  trip_total  \\\n",
       "0                    77.0   7.5  2.0                 2.5        12.0   \n",
       "1                     7.0   2.5  0.0                 2.5         5.0   \n",
       "2                     6.0  10.0  2.0                 2.5        14.5   \n",
       "3                     8.0  17.5  0.0                 2.5        20.0   \n",
       "5                    28.0  12.5  0.0                 2.5        15.0   \n",
       "\n",
       "   pickup_centroid_latitude  pickup_centroid_longitude  \\\n",
       "0                 41.938232                 -87.646782   \n",
       "1                 41.938232                 -87.646782   \n",
       "2                 42.001698                 -87.673574   \n",
       "3                 41.863118                 -87.672920   \n",
       "5                 41.954028                 -87.763399   \n",
       "\n",
       "   dropoff_centroid_latitude  dropoff_centroid_longitude  Type Severity  \n",
       "0                  41.993441                  -87.657418  Rain    Light  \n",
       "1                  41.930579                  -87.642206  Rain    Light  \n",
       "2                  41.946490                  -87.647114  Rain    Light  \n",
       "3                  41.890922                  -87.618868  Rain    Light  \n",
       "5                  41.874005                  -87.663518  Rain    Light  "
      ]
     },
     "execution_count": 21,
     "metadata": {},
     "output_type": "execute_result"
    }
   ],
   "source": [
    "print(\"Shape:\", df.shape)\n",
    "df.head()"
   ]
  },
  {
   "cell_type": "markdown",
   "metadata": {},
   "source": [
    "# Downsampling TNP\n",
    "\n",
    "We'll randomly sample the TNP dataset with the same size as the taxi dataset.\n",
    "\n",
    "*Note: Since we did not indicate a random state for this code, this will return a different dataset for each run.*"
   ]
  },
  {
   "cell_type": "code",
   "execution_count": 22,
   "metadata": {
    "ExecuteTime": {
     "end_time": "2020-08-10T15:49:52.423265Z",
     "start_time": "2020-08-10T15:49:51.933580Z"
    }
   },
   "outputs": [],
   "source": [
    "idx = np.random.choice(range(df.shape[0]), size=target_size, replace=False)"
   ]
  },
  {
   "cell_type": "code",
   "execution_count": 23,
   "metadata": {
    "ExecuteTime": {
     "end_time": "2020-08-10T15:49:53.808947Z",
     "start_time": "2020-08-10T15:49:53.642445Z"
    }
   },
   "outputs": [],
   "source": [
    "df = df.iloc[idx]"
   ]
  },
  {
   "cell_type": "code",
   "execution_count": 24,
   "metadata": {
    "ExecuteTime": {
     "end_time": "2020-08-10T15:49:55.037062Z",
     "start_time": "2020-08-10T15:49:55.033322Z"
    }
   },
   "outputs": [
    {
     "data": {
      "text/plain": [
       "(240304, 17)"
      ]
     },
     "execution_count": 24,
     "metadata": {},
     "output_type": "execute_result"
    }
   ],
   "source": [
    "df.shape"
   ]
  },
  {
   "cell_type": "markdown",
   "metadata": {},
   "source": [
    "# Merging the Two Datasets"
   ]
  },
  {
   "cell_type": "markdown",
   "metadata": {},
   "source": [
    "## New columns\n",
    "\n",
    "Create a `type` column to identify what kind of trip it is. We'll add mobile as the `payment_type` for TNPs since it is indicated by Chicago regulation that TNPs cannot accept cash transactions, and are essentially cashless."
   ]
  },
  {
   "cell_type": "code",
   "execution_count": 25,
   "metadata": {
    "ExecuteTime": {
     "end_time": "2020-08-10T15:49:57.107971Z",
     "start_time": "2020-08-10T15:49:56.915286Z"
    }
   },
   "outputs": [],
   "source": [
    "taxi_df.loc[:, 'TransportType'] = 'taxi'\n",
    "df.loc[:, 'TransportType'] = 'tnp'\n",
    "df.loc[:, 'payment_type'] = 'mobile'\n",
    "df.loc[:, 'payment_is_cashless'] = 'cashless'"
   ]
  },
  {
   "cell_type": "markdown",
   "metadata": {},
   "source": [
    "Make an `additional_charges` column that aggregates taxi `tolls` and `extras`. This is the equivalent of TNP `additional_charges`"
   ]
  },
  {
   "cell_type": "code",
   "execution_count": 26,
   "metadata": {
    "ExecuteTime": {
     "end_time": "2020-08-10T15:50:02.932461Z",
     "start_time": "2020-08-10T15:50:02.836077Z"
    }
   },
   "outputs": [],
   "source": [
    "taxi_df['additional_charges'] = taxi_df['tolls'] + taxi_df['extras']\n",
    "taxi_df.drop(columns=['tolls', 'extras'], inplace=True)"
   ]
  },
  {
   "cell_type": "markdown",
   "metadata": {},
   "source": [
    "## Concatenate DataFrames"
   ]
  },
  {
   "cell_type": "markdown",
   "metadata": {},
   "source": [
    "Write file for easier reference. This will be the final dataset that will be used for clustering."
   ]
  },
  {
   "cell_type": "code",
   "execution_count": 27,
   "metadata": {
    "ExecuteTime": {
     "end_time": "2020-08-10T15:50:32.114346Z",
     "start_time": "2020-08-10T15:50:09.391614Z"
    }
   },
   "outputs": [],
   "source": [
    "pd.concat([taxi_df, df], ignore_index=True).to_csv('taxi_tnp_weather.csv.gz',\n",
    "                                                   index=False)"
   ]
  }
 ],
 "metadata": {
  "kernelspec": {
   "display_name": "Python 3",
   "language": "python",
   "name": "python3"
  },
  "language_info": {
   "codemirror_mode": {
    "name": "ipython",
    "version": 3
   },
   "file_extension": ".py",
   "mimetype": "text/x-python",
   "name": "python",
   "nbconvert_exporter": "python",
   "pygments_lexer": "ipython3",
   "version": "3.7.6"
  },
  "varInspector": {
   "cols": {
    "lenName": 16,
    "lenType": 16,
    "lenVar": 40
   },
   "kernels_config": {
    "python": {
     "delete_cmd_postfix": "",
     "delete_cmd_prefix": "del ",
     "library": "var_list.py",
     "varRefreshCmd": "print(var_dic_list())"
    },
    "r": {
     "delete_cmd_postfix": ") ",
     "delete_cmd_prefix": "rm(",
     "library": "var_list.r",
     "varRefreshCmd": "cat(var_dic_list()) "
    }
   },
   "position": {
    "height": "262px",
    "left": "938px",
    "right": "20px",
    "top": "120px",
    "width": "322px"
   },
   "types_to_exclude": [
    "module",
    "function",
    "builtin_function_or_method",
    "instance",
    "_Feature"
   ],
   "window_display": false
  }
 },
 "nbformat": 4,
 "nbformat_minor": 4
}
