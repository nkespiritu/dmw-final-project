{
 "cells": [
  {
   "cell_type": "markdown",
   "metadata": {},
   "source": [
    "# Clustering\n",
    "\n",
    "This notebook focuses on clustering. For this project, we applied a $k$-medians clustering on the reduced dimensionality.\n",
    "\n",
    "*Note: This notebook takes a long time to run. We've exported the results of our clustering and validation results for convenience.*"
   ]
  },
  {
   "cell_type": "code",
   "execution_count": 1,
   "metadata": {
    "ExecuteTime": {
     "end_time": "2020-08-21T19:33:34.756838Z",
     "start_time": "2020-08-21T19:33:32.819925Z"
    }
   },
   "outputs": [],
   "source": [
    "import numpy as np\n",
    "import pandas as pd\n",
    "import matplotlib.pyplot as plt\n",
    "from sklearn.preprocessing import StandardScaler\n",
    "from sklearn.decomposition import PCA, TruncatedSVD\n",
    "from scipy.spatial.distance import euclidean, cityblock\n",
    "from sklearn.base import clone\n",
    "from IPython.display import HTML\n",
    "import seaborn as sns\n",
    "from sklearn.cluster import KMeans\n",
    "from sklearn.metrics import calinski_harabasz_score, silhouette_score\n",
    "from pyclustering.cluster.kmedians import kmedians\n",
    "from pyclustering.utils.metric import distance_metric, type_metric\n",
    "\n",
    "%matplotlib inline"
   ]
  },
  {
   "cell_type": "code",
   "execution_count": 2,
   "metadata": {
    "ExecuteTime": {
     "end_time": "2020-08-21T19:33:36.060179Z",
     "start_time": "2020-08-21T19:33:35.925121Z"
    }
   },
   "outputs": [],
   "source": [
    "def pooled_within_ssd(X, y, centroids, dist):\n",
    "    \"\"\"Compute pooled within-cluster sum of squares around the cluster mean\n",
    "    \n",
    "    Parameters\n",
    "    ----------\n",
    "    X : array\n",
    "        Design matrix with each row corresponding to a point\n",
    "    y : array\n",
    "        Class label of each point\n",
    "    centroids : array\n",
    "        Number of pairs to sample\n",
    "    dist : callable\n",
    "        Distance between two points. It should accept two arrays, each \n",
    "        corresponding to the coordinates of each point\n",
    "        \n",
    "    Returns\n",
    "    -------\n",
    "    float\n",
    "        Pooled within-cluster sum of squares around the cluster mean\n",
    "    \"\"\"\n",
    "    return np.sum([(dist(x, centroids[y_])**2 / (2 * np.sum(y == y_)))\n",
    "                   for x, y_ in zip(X, y)])\n",
    "\n",
    "\n",
    "def gap_statistic_kmedians(X, y, centroids, b):\n",
    "    \"\"\"Compute the gap statistic for a k-medians clusterer\n",
    "    \n",
    "    Parameters\n",
    "    ----------\n",
    "    X : array\n",
    "        Design matrix with each row corresponding to a point\n",
    "    y : array\n",
    "        Class label of each point\n",
    "    centroids : array\n",
    "        Number of pairs to sample\n",
    "    b : int\n",
    "        Number of realizations for the reference distribution\n",
    "        \n",
    "    Returns\n",
    "    -------\n",
    "    gs : float\n",
    "        Gap statistic\n",
    "    gs_std : float\n",
    "        Standard deviation of gap statistic\n",
    "    \"\"\"\n",
    "    np.random.seed(1337)\n",
    "    gap_vec = []\n",
    "    \n",
    "    w_k = pooled_within_ssd(X, y, centroids, cityblock)\n",
    "    \n",
    "    for i in range(b):\n",
    "        x_hat = np.random.uniform(np.min(X, axis=0), np.max(X, axis=0),\n",
    "                                  size=(X.shape))\n",
    "        kmd = kmedians(x_hat, x_hat[:len(centroids), :], ccore=False,\n",
    "                       metric=distance_metric(type_metric.MANHATTAN))\n",
    "        kmd = kmd.process()\n",
    "        y_hat = kmd.predict(x_hat)\n",
    "        w_ki = pooled_within_ssd(x_hat, y_hat, np.array(kmd.get_medians()),\n",
    "                                 cityblock)\n",
    "        gap_vec.append(np.log(w_ki) - np.log(w_k))\n",
    "    return np.mean(gap_vec), np.std(gap_vec)\n",
    "\n",
    "\n",
    "def cluster_range_kmedians(X, k_start, k_stop, actual=None):\n",
    "    \"\"\"Apply KMedians with increasing k. Get clusters and validation values\"\"\"\n",
    "    ys = []\n",
    "    inertias = []\n",
    "    chs = []\n",
    "    scs = []\n",
    "    gss = []\n",
    "    gssds = []\n",
    "    ps = []\n",
    "    amis = []\n",
    "    ars = []\n",
    "    for k in range(k_start, k_stop+1):\n",
    "        clusterer_k = kmedians(X, X[:k,:], ccore=False,\n",
    "                               metric=distance_metric(type_metric.MANHATTAN))\n",
    "        clusterer_k.process()\n",
    "        clusters = clusterer_k.get_clusters()\n",
    "        \n",
    "        y = np.zeros(len(X)).astype(int)\n",
    "        for cluster, point in enumerate(clusters):\n",
    "            y[point] = cluster\n",
    "        \n",
    "        ys.append(y)\n",
    "        chs.append(calinski_harabasz_score(X, y))\n",
    "#         scs.append(silhouette_score(X, y))\n",
    "        \n",
    "        inertia = clusterer_k.get_total_wce()\n",
    "        inertias.append(inertia)\n",
    "        \n",
    "#         gs = gap_statistic_kmedians(X, y, clusterer_k.get_medians(), 5)\n",
    "#         gss.append(gs[0])\n",
    "#         gssds.append(gs[1])\n",
    "        \n",
    "    return {\n",
    "        'ys': ys, 'inertias': inertias, 'chs': chs, 'gss': gss, 'gssds': gssds\n",
    "    }\n",
    "\n",
    "def plot_internal(inertias, chs, scs, gss, gssds):\n",
    "    \"\"\"Plot internal validation values\"\"\"\n",
    "    fig, ax = plt.subplots()\n",
    "    ks = np.arange(2, len(inertias)+2)\n",
    "    ax.plot(ks, inertias, '-o', label='SSE')\n",
    "    ax.plot(ks, chs, '-ro', label='CH')\n",
    "    ax.set_xlabel('$k$')\n",
    "    ax.set_ylabel('SSE/CH')\n",
    "    lines, labels = ax.get_legend_handles_labels()\n",
    "    ax2 = ax.twinx()\n",
    "    ax2.errorbar(ks, gss, gssds, fmt='-go', label='Gap statistic')\n",
    "    ax2.plot(ks, scs, '-ko', label='Silhouette coefficient')\n",
    "    ax2.set_ylabel('Gap statistic/Silhouette')\n",
    "    lines2, labels2 = ax2.get_legend_handles_labels()\n",
    "    ax2.legend(lines+lines2, labels+labels2)\n",
    "    return ax"
   ]
  },
  {
   "cell_type": "markdown",
   "metadata": {},
   "source": [
    "## Running the Clustering\n",
    "\n",
    "This notebook takes in `pca.npy` from the dimensionality reduction notebook."
   ]
  },
  {
   "cell_type": "code",
   "execution_count": 3,
   "metadata": {
    "ExecuteTime": {
     "end_time": "2020-08-21T19:38:38.705034Z",
     "start_time": "2020-08-21T19:38:38.509553Z"
    }
   },
   "outputs": [],
   "source": [
    "data = np.load('pca.npy')"
   ]
  },
  {
   "cell_type": "code",
   "execution_count": 4,
   "metadata": {
    "ExecuteTime": {
     "end_time": "2020-08-22T00:39:28.149312Z",
     "start_time": "2020-08-21T19:41:08.603645Z"
    }
   },
   "outputs": [
    {
     "data": {
      "text/plain": [
       "<matplotlib.axes._subplots.AxesSubplot at 0x7fbf3699e490>"
      ]
     },
     "execution_count": 4,
     "metadata": {},
     "output_type": "execute_result"
    },
    {
     "data": {
      "image/png": "[encoded data removed]",
      "text/plain": [
       "<Figure size 720x288 with 2 Axes>"
      ]
     },
     "metadata": {
      "needs_background": "light"
     },
     "output_type": "display_data"
    }
   ],
   "source": [
    "kmd_crange_svd = cluster_range_kmedians(data, 2, 12)\n",
    "fig, ax = plt.subplots(ncols=2, figsize=(10, 4))\n",
    "sns.lineplot(x=range(2, 2 + len(kmd_crange_svd['inertias'])),\n",
    "             y=(kmd_crange_svd['inertias']), ax=ax[0])\n",
    "sns.lineplot(x=range(2, 2 + len(kmd_crange_svd['chs'])),\n",
    "             y=(kmd_crange_svd['chs']), ax=ax[1])"
   ]
  },
  {
   "cell_type": "code",
   "execution_count": 8,
   "metadata": {
    "ExecuteTime": {
     "end_time": "2020-08-22T04:17:02.108521Z",
     "start_time": "2020-08-22T04:17:02.095356Z"
    }
   },
   "outputs": [],
   "source": [
    "df = pd.DataFrame({'ys': kmd_crange_svd['ys'],\n",
    "                   'inertias': kmd_crange_svd['inertias'],\n",
    "                   'chs': kmd_crange_svd['chs']},\n",
    "                  index=range(2,13))"
   ]
  },
  {
   "cell_type": "code",
   "execution_count": 12,
   "metadata": {
    "ExecuteTime": {
     "end_time": "2020-08-22T04:22:56.725528Z",
     "start_time": "2020-08-22T04:22:56.349028Z"
    }
   },
   "outputs": [
    {
     "data": {
      "image/png": "[encoded data removed]",
      "text/plain": [
       "<Figure size 720x288 with 2 Axes>"
      ]
     },
     "metadata": {
      "needs_background": "light"
     },
     "output_type": "display_data"
    }
   ],
   "source": [
    "fig, ax = plt.subplots(ncols=2, figsize=(10, 4))\n",
    "df.inertias.plot(ax=ax[0])\n",
    "ax[0].set_title('Inertia')\n",
    "df.chs.plot(ax=ax[1])\n",
    "ax[1].set_title('CH Score')\n",
    "plt.suptitle('K-medians Internal Validation Metrics');"
   ]
  },
  {
   "cell_type": "code",
   "execution_count": 13,
   "metadata": {
    "ExecuteTime": {
     "end_time": "2020-08-22T05:11:12.945545Z",
     "start_time": "2020-08-22T05:11:06.157387Z"
    }
   },
   "outputs": [],
   "source": [
    "df2 = pd.DataFrame(np.array(kmd_crange_svd['ys']).T,\n",
    "                   columns=range(2,13))\n",
    "df2.to_csv('cluster_labels.csv.gz', index=False)"
   ]
  },
  {
   "cell_type": "code",
   "execution_count": 15,
   "metadata": {
    "ExecuteTime": {
     "end_time": "2020-08-22T05:11:52.322609Z",
     "start_time": "2020-08-22T05:11:52.303535Z"
    }
   },
   "outputs": [],
   "source": [
    "df.iloc[:, 1:].to_csv('validation.csv.gz')"
   ]
  },
  {
   "cell_type": "code",
   "execution_count": null,
   "metadata": {},
   "outputs": [],
   "source": []
  }
 ],
 "metadata": {
  "kernelspec": {
   "display_name": "Python 3",
   "language": "python",
   "name": "python3"
  },
  "language_info": {
   "codemirror_mode": {
    "name": "ipython",
    "version": 3
   },
   "file_extension": ".py",
   "mimetype": "text/x-python",
   "name": "python",
   "nbconvert_exporter": "python",
   "pygments_lexer": "ipython3",
   "version": "3.7.6"
  },
  "varInspector": {
   "cols": {
    "lenName": 16,
    "lenType": 16,
    "lenVar": 40
   },
   "kernels_config": {
    "python": {
     "delete_cmd_postfix": "",
     "delete_cmd_prefix": "del ",
     "library": "var_list.py",
     "varRefreshCmd": "print(var_dic_list())"
    },
    "r": {
     "delete_cmd_postfix": ") ",
     "delete_cmd_prefix": "rm(",
     "library": "var_list.r",
     "varRefreshCmd": "cat(var_dic_list()) "
    }
   },
   "oldHeight": 238,
   "position": {
    "height": "40px",
    "left": "936px",
    "right": "20px",
    "top": "120px",
    "width": "324px"
   },
   "types_to_exclude": [
    "module",
    "function",
    "builtin_function_or_method",
    "instance",
    "_Feature"
   ],
   "varInspector_section_display": "none",
   "window_display": false
  }
 },
 "nbformat": 4,
 "nbformat_minor": 4
}
